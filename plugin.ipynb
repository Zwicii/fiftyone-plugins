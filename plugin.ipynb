{
 "cells": [
  {
   "cell_type": "code",
   "execution_count": null,
   "metadata": {},
   "outputs": [],
   "source": [
    "import os\n",
    "from pathlib import Path\n",
    "config_path = Path.home() / \".fiftyone\" / \"config.global_mongodb.json\"\n",
    "os.environ[\"FIFTYONE_CONFIG_PATH\"] = str(config_path)"
   ]
  },
  {
   "cell_type": "code",
   "execution_count": 1,
   "metadata": {},
   "outputs": [
    {
     "data": {
      "text/plain": [
       "['HENSOLDT', 'HENSOLDT3', 'HENSOLDT_TEST', 'MY_DATASET', 'SAM_TRACK_TEST']"
      ]
     },
     "execution_count": 1,
     "metadata": {},
     "output_type": "execute_result"
    }
   ],
   "source": [
    "import fiftyone as fo\n",
    "fo.list_datasets()"
   ]
  },
  {
   "cell_type": "code",
   "execution_count": 2,
   "metadata": {},
   "outputs": [
    {
     "data": {
      "text/html": [
       "\n",
       "        <iframe\n",
       "            width=\"100%\"\n",
       "            height=\"800\"\n",
       "            src=\"http://192.168.1.5:2203/?notebook=True&subscription=a9b3b176-1c1c-46f6-8623-39fb4377e50b\"\n",
       "            frameborder=\"0\"\n",
       "            allowfullscreen\n",
       "            \n",
       "        ></iframe>\n",
       "        "
      ],
      "text/plain": [
       "<IPython.lib.display.IFrame at 0x7f1cd0369660>"
      ]
     },
     "metadata": {},
     "output_type": "display_data"
    },
    {
     "data": {
      "text/plain": [
       "Dataset:         HENSOLDT\n",
       "Media type:      group\n",
       "Num groups:      1\n",
       "Selected groups: 0\n",
       "Selected labels: 0\n",
       "Session URL:     http://192.168.1.5:2203/"
      ]
     },
     "execution_count": 2,
     "metadata": {},
     "output_type": "execute_result"
    }
   ],
   "source": [
    "dataset = fo.load_dataset(\"HENSOLDT\")\n",
    "fo.launch_app(dataset=dataset, address=\"192.168.1.5\", port=2203, auto=False)"
   ]
  },
  {
   "cell_type": "markdown",
   "metadata": {},
   "source": [
    "### Show plugins"
   ]
  },
  {
   "cell_type": "code",
   "execution_count": 7,
   "metadata": {},
   "outputs": [
    {
     "name": "stdout",
     "output_type": "stream",
     "text": [
      "/home/victoria/fiftyone/__plugins__\n",
      "plugin                version    enabled    directory\n",
      "--------------------  ---------  ---------  --------------------------------------------------------\n",
      "@voxel51/hello-world  1.0.0      ✓          /home/victoria/fiftyone/__plugins__/@voxel51/hello-world\n"
     ]
    }
   ],
   "source": [
    "#!fiftyone config plugins_dir\n",
    "!fiftyone plugins list"
   ]
  },
  {
   "cell_type": "markdown",
   "metadata": {},
   "source": [
    "### Add plugin"
   ]
  },
  {
   "cell_type": "code",
   "execution_count": 6,
   "metadata": {},
   "outputs": [
    {
     "name": "stdout",
     "output_type": "stream",
     "text": [
      "Downloading voxel51/fiftyone-plugins...\n",
      "  329.1Mb [6.9s elapsed, ? remaining, 52.7Mb/s]     \n",
      "Copying plugin '@voxel51/hello-world' to '/home/victoria/fiftyone/__plugins__/@voxel51/hello-world'\n"
     ]
    }
   ],
   "source": [
    "!fiftyone plugins download \\\n",
    "    https://github.com/voxel51/fiftyone-plugins \\\n",
    "    --plugin-names @voxel51/hello-world"
   ]
  }
 ],
 "metadata": {
  "kernelspec": {
   "display_name": "fo-venv",
   "language": "python",
   "name": "python3"
  },
  "language_info": {
   "codemirror_mode": {
    "name": "ipython",
    "version": 3
   },
   "file_extension": ".py",
   "mimetype": "text/x-python",
   "name": "python",
   "nbconvert_exporter": "python",
   "pygments_lexer": "ipython3",
   "version": "3.10.13"
  }
 },
 "nbformat": 4,
 "nbformat_minor": 2
}
